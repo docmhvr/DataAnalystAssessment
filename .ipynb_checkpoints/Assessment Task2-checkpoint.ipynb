{
 "cells": [
  {
   "cell_type": "markdown",
   "id": "1001d20f",
   "metadata": {},
   "source": [
    "# Task 2: Data Cleansing and Transformation\n",
    "\n",
    "Instructions:\n",
    "1. Acquire a real-world dataset requiring data cleaning and transformation.\n",
    "2. Address data quality issues (missing values, inconsistent formats, outliers).\n",
    "3. Develop a cleaning strategy (imputation, outlier detection, normalization).\n",
    "4. Implement necessary transformation steps (feature engineering, aggregation).\n",
    "5. Validate the cleaned and transformed dataset for integrity and usability.\n",
    "6. Document the steps taken and provide clear explanations.\n",
    "7. Present the cleaned and transformed dataset for further analysis.\n"
   ]
  },
  {
   "cell_type": "code",
   "execution_count": 1,
   "id": "8005d698",
   "metadata": {},
   "outputs": [],
   "source": [
    "import pandas as pd\n",
    "import seaborn as sns\n",
    "import matplotlib.pyplot as plt\n",
    "plt.style.use('ggplot')\n",
    "import numpy as np"
   ]
  },
  {
   "cell_type": "code",
   "execution_count": null,
   "id": "7aa32dde",
   "metadata": {},
   "outputs": [],
   "source": []
  }
 ],
 "metadata": {
  "kernelspec": {
   "display_name": "Python 3 (ipykernel)",
   "language": "python",
   "name": "python3"
  },
  "language_info": {
   "codemirror_mode": {
    "name": "ipython",
    "version": 3
   },
   "file_extension": ".py",
   "mimetype": "text/x-python",
   "name": "python",
   "nbconvert_exporter": "python",
   "pygments_lexer": "ipython3",
   "version": "3.9.12"
  }
 },
 "nbformat": 4,
 "nbformat_minor": 5
}
