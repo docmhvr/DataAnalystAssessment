{
 "cells": [
  {
   "cell_type": "markdown",
   "id": "1001d20f",
   "metadata": {},
   "source": [
    "# Task 2: Data Cleansing and Transformation\n",
    "\n",
    "Instructions:\n",
    "1. Acquire a real-world dataset requiring data cleaning and transformation.\n",
    "2. Address data quality issues (missing values, inconsistent formats, outliers).\n",
    "3. Develop a cleaning strategy (imputation, outlier detection, normalization).\n",
    "4. Implement necessary transformation steps (feature engineering, aggregation).\n",
    "5. Validate the cleaned and transformed dataset for integrity and usability.\n",
    "6. Document the steps taken and provide clear explanations.\n",
    "7. Present the cleaned and transformed dataset for further analysis.\n"
   ]
  },
  {
   "cell_type": "code",
   "execution_count": 2,
   "id": "8005d698",
   "metadata": {},
   "outputs": [],
   "source": [
    "import pandas as pd\n",
    "import numpy as np\n",
    "import seaborn as sns\n",
    "import matplotlib.pyplot as plt\n",
    "plt.style.use('ggplot')"
   ]
  },
  {
   "cell_type": "code",
   "execution_count": 3,
   "id": "7aa32dde",
   "metadata": {},
   "outputs": [],
   "source": [
    "data = pd.read_csv(\"Datasets/california_housing/housing.csv\")"
   ]
  },
  {
   "cell_type": "markdown",
   "id": "3f665013",
   "metadata": {},
   "source": [
    "### Dataset details\n",
    "- Description: The dataset is California Housing Prices dataset. <br>\n",
    "- Columns: [longitude, latitude, housing_median_age, total_rooms, total_bedrooms, population, households, median_income, median_house_value, ocean_proximity]"
   ]
  },
  {
   "cell_type": "code",
   "execution_count": 14,
   "id": "18e39772",
   "metadata": {},
   "outputs": [
    {
     "name": "stdout",
     "output_type": "stream",
     "text": [
      "<class 'pandas.core.frame.DataFrame'>\n",
      "RangeIndex: 20640 entries, 0 to 20639\n",
      "Data columns (total 10 columns):\n",
      " #   Column              Non-Null Count  Dtype  \n",
      "---  ------              --------------  -----  \n",
      " 0   longitude           20640 non-null  float64\n",
      " 1   latitude            20640 non-null  float64\n",
      " 2   housing_median_age  20640 non-null  float64\n",
      " 3   total_rooms         20640 non-null  float64\n",
      " 4   total_bedrooms      20433 non-null  float64\n",
      " 5   population          20640 non-null  float64\n",
      " 6   households          20640 non-null  float64\n",
      " 7   median_income       20640 non-null  float64\n",
      " 8   median_house_value  20640 non-null  float64\n",
      " 9   ocean_proximity     20640 non-null  object \n",
      "dtypes: float64(9), object(1)\n",
      "memory usage: 1.6+ MB\n"
     ]
    }
   ],
   "source": [
    "# data.head()\n",
    "data.info()\n",
    "# data['longitude'].isnull().value_counts()"
   ]
  },
  {
   "cell_type": "code",
   "execution_count": null,
   "id": "4d00465a",
   "metadata": {},
   "outputs": [],
   "source": []
  }
 ],
 "metadata": {
  "kernelspec": {
   "display_name": "Python 3 (ipykernel)",
   "language": "python",
   "name": "python3"
  },
  "language_info": {
   "codemirror_mode": {
    "name": "ipython",
    "version": 3
   },
   "file_extension": ".py",
   "mimetype": "text/x-python",
   "name": "python",
   "nbconvert_exporter": "python",
   "pygments_lexer": "ipython3",
   "version": "3.9.12"
  }
 },
 "nbformat": 4,
 "nbformat_minor": 5
}
